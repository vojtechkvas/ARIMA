{
 "cells": [
  {
   "cell_type": "markdown",
   "metadata": {},
   "source": [
    "# Bonus projekt\n",
    "\n",
    "#### Vojtěch Kváš (kvasvojt)\n",
    "\n"
   ]
  },
  {
   "cell_type": "markdown",
   "metadata": {},
   "source": [
    "## 1. Generování dat"
   ]
  },
  {
   "cell_type": "code",
   "execution_count": null,
   "metadata": {},
   "outputs": [],
   "source": [
    "import numpy as np\n",
    "from statsmodels.tsa.arima_process import ArmaProcess\n",
    "\n",
    "np.random.seed(506742)\n",
    "ar = np.array([1, -0.5])\n",
    "ma = np.array([1, 0.3])\n",
    "process = ArmaProcess(ar, ma)\n",
    "y = process.generate_sample(nsample=200)\n",
    "y = np.cumsum(y)"
   ]
  },
  {
   "cell_type": "code",
   "execution_count": null,
   "metadata": {},
   "outputs": [],
   "source": [
    "# pip install matplotlib"
   ]
  },
  {
   "cell_type": "code",
   "execution_count": null,
   "metadata": {},
   "outputs": [],
   "source": [
    "import numpy as np\n",
    "import pandas as pd\n",
    "import matplotlib.pyplot as plt\n",
    "from statsmodels.tsa.arima_process import ArmaProcess\n",
    "\n",
    "\"\"\"\n",
    "df = pd.DataFrame({'x': y})\n",
    "data = pd.Series(y, name=\"Syntetická časová řada\")\n",
    "\n",
    "\"\"\""
   ]
  },
  {
   "cell_type": "code",
   "execution_count": null,
   "metadata": {},
   "outputs": [],
   "source": [
    "from utils import *\n",
    "\n",
    "\n",
    "tsplot(y)"
   ]
  },
  {
   "cell_type": "markdown",
   "metadata": {},
   "source": [
    "## 2. Modelování"
   ]
  },
  {
   "cell_type": "code",
   "execution_count": null,
   "metadata": {},
   "outputs": [],
   "source": [
    "#  pip install --upgrade numpy pmdarima"
   ]
  },
  {
   "cell_type": "code",
   "execution_count": null,
   "metadata": {},
   "outputs": [],
   "source": [
    "# display(type(   data))\n",
    "# display(type(   df))\n",
    "display(type(y))"
   ]
  },
  {
   "cell_type": "code",
   "execution_count": null,
   "metadata": {},
   "outputs": [],
   "source": [
    "#  pip install --upgrade pmdarima"
   ]
  },
  {
   "cell_type": "code",
   "execution_count": null,
   "metadata": {},
   "outputs": [],
   "source": [
    "import pmdarima as pm"
   ]
  },
  {
   "cell_type": "code",
   "execution_count": null,
   "metadata": {},
   "outputs": [],
   "source": [
    "import warnings\n",
    "\n",
    "warnings.simplefilter(\"ignore\")\n",
    "\n",
    "print(\"Probiha automaticka volba radu modelu ARIMA...\")\n",
    "model_fit_auto = pm.auto_arima(\n",
    "    y,\n",
    "    start_p=1,\n",
    "    start_q=1,\n",
    "    test=\"adf\",  # Pouziti ADF testu pro urceni d\n",
    "    max_p=5,\n",
    "    max_q=5,  # Maximalni rady p a q\n",
    "    m=1,  # 1 pro ne-sezonni data\n",
    "    d=None,  # Nechame auto_arima urcit d\n",
    "    seasonal=False,  # Ne-sezonni model\n",
    "    trace=True,\n",
    "    #  scoring='aic',\n",
    "    error_action=\"ignore\",\n",
    "    suppress_warnings=True,\n",
    "    stepwise=True,\n",
    "    #  information_criterion='bic'\n",
    ")\n",
    "\n",
    "# Ziskani nejlepsiho radu (p, d, q)\n",
    "best_order = model_fit_auto.order\n",
    "\n",
    "print(\"\\n\" + \"=\" * 50)\n",
    "print(f\"1. ZVOLENÝ ŘÁD MODELU (p, d, q): {best_order}\")\n",
    "print(\"=\" * 50 + \"\\n\")"
   ]
  },
  {
   "cell_type": "code",
   "execution_count": null,
   "metadata": {},
   "outputs": [],
   "source": [
    "import warnings\n",
    "\n",
    "warnings.simplefilter(\"ignore\")\n",
    "\n",
    "print(\"Probiha automaticka volba radu modelu ARIMA...\")\n",
    "model_fit_auto = pm.auto_arima(\n",
    "    y,\n",
    "    start_p=1,\n",
    "    start_q=1,\n",
    "    test=\"adf\",   \n",
    "    max_p=5,\n",
    "    max_q=5,  \n",
    "    m=1,  \n",
    "    d=None,  \n",
    "    seasonal=False,  \n",
    "    trace=True, \n",
    "    error_action=\"ignore\",\n",
    "    suppress_warnings=True,\n",
    "    stepwise=True,\n",
    "    information_criterion='bic'\n",
    ")\n",
    "\n",
    "# Ziskani nejlepsiho radu (p, d, q)\n",
    "best_order = model_fit_auto.order\n",
    "\n",
    "print(\"\\n\" + \"=\" * 50)\n",
    "print(f\"1. ZVOLENÝ ŘÁD MODELU (p, d, q): {best_order}\")\n",
    "print(\"=\" * 50 + \"\\n\")"
   ]
  },
  {
   "cell_type": "code",
   "execution_count": null,
   "metadata": {},
   "outputs": [],
   "source": []
  },
  {
   "cell_type": "code",
   "execution_count": null,
   "metadata": {},
   "outputs": [],
   "source": [
    " \n",
    "auto_model = pm.auto_arima(\n",
    "    y,\n",
    "    start_p=0, start_q=0,\n",
    "    max_p=5, max_q=5,\n",
    "    d=None,                       # automaticky testovat diference\n",
    "    seasonal=False,               # nebo True s m=12 for měsíční data\n",
    "    stepwise=False,               # heuristické prohledávání True/False\n",
    "    information_criterion='bic',  # nebo 'bic'\n",
    "    trace=True\n",
    ")\n",
    "\n",
    "print(auto_model.summary())"
   ]
  },
  {
   "cell_type": "code",
   "execution_count": null,
   "metadata": {},
   "outputs": [],
   "source": [
    "\n",
    "from statsmodels.tsa.arima.model import ARIMA\n",
    "from statsmodels.tsa.stattools import arma_order_select_ic\n",
    "\n",
    "model = ARIMA(y, order=best_order, trend='n')\n",
    "result = model.fit()\n",
    "print(result.summary())"
   ]
  },
  {
   "cell_type": "code",
   "execution_count": null,
   "metadata": {},
   "outputs": [],
   "source": [
    "result.plot_diagnostics(figsize=(9,9))\n",
    "plt.show()"
   ]
  },
  {
   "cell_type": "code",
   "execution_count": null,
   "metadata": {},
   "outputs": [],
   "source": []
  },
  {
   "cell_type": "markdown",
   "metadata": {},
   "source": [
    "## 3. Validace"
   ]
  },
  {
   "cell_type": "code",
   "execution_count": null,
   "metadata": {},
   "outputs": [],
   "source": [
    "from math import sqrt\n",
    "\n",
    "aic_val = result.aic\n",
    "bic_val = result.bic\n",
    "\n",
    " "
   ]
  },
  {
   "cell_type": "code",
   "execution_count": null,
   "metadata": {},
   "outputs": [],
   "source": [
    "# Počáteční velikost trénovací sady (např. prvních 75 % dat)\n",
    "initial_train_size = 1\n",
    "# Horizont predikce (pro ROCV se typicky používá h=1)\n",
    "forecast_horizon = 1 \n",
    "# O kolik se okno posune v každé iteraci\n",
    "step = 1\n",
    "\n",
    "# Vytvoření seznamu pro ukládání chyb (skutečnost vs. predikce)\n",
    "rolling_errors = []\n",
    "\n",
    "# Velikost validace/testovací sady\n",
    "n_test = len(y) - initial_train_size\n",
    "print(f\"Celková velikost dat: {len(y)}\")\n",
    "print(f\"Počáteční trénovací sada: {initial_train_size} bodů\")\n",
    "print(f\"Počet predikcí (Iterace): {n_test}\\n\")\n",
    "\n",
    "# --- 3. Provedení ROCV (Pohyblivé okno) ---\n",
    "# Iterujeme od bodu, kde končí počáteční trénovací sada, až do konce dat.\n",
    "for i in range(initial_train_size, len(y), step):\n",
    "    # Definice trénovací a testovací sady pro aktuální iteraci\n",
    "    train_data = y[:i]\n",
    "    # Skutečná hodnota, kterou se snažíme předpovědět\n",
    "    actual_value = y[i:i + forecast_horizon] \n",
    "    \n",
    "    # 1. Fitování modelu na aktuální trénovací sadě\n",
    " #   try:\n",
    "    if True:\n",
    "        print(f\"Iterace {i - initial_train_size + 1}/{n_test}\")\n",
    "        print(f\"Iterace {i - initial_train_size + 1}/{n_test}\")\n",
    "        model = ARIMA(train_data, order=best_order )\n",
    "        results = model.fit( ) # disp=False potlačuje výpisy optimalizace\n",
    "        \n",
    "        # 2. Jednokroková predikce\n",
    "        forecast = results.get_forecast(steps=forecast_horizon)\n",
    "       #  display(forecast.summary_frame())\n",
    "        display(forecast.predicted_mean[0])\n",
    "        predicted_value = forecast.predicted_mean [0]\n",
    "        \n",
    "        # Uložení chyby predikce (skutečná hodnota - predikovaná hodnota)\n",
    "        error = actual_value[0] - predicted_value\n",
    "        rolling_errors.append(error)\n",
    "        \n",
    "        # print(f\"Iterace {i - initial_train_size + 1}/{n_test}: Predikce {predicted_value:.2f}, Skutečnost {actual_value[0]:.2f}, Chyba: {error:.2f}\")\n",
    "\"\"\"\n",
    "    except Exception as e:\n",
    "        # Přeskočení iterace, pokud model selže (časté u extrémních dat nebo špatného řádu)\n",
    "        print(f\"Iterace {i - initial_train_size + 1} selhala: {e}\")\n",
    "        continue\n",
    "\"\"\"\n",
    "display(rolling_errors)\n",
    "\n",
    "if rolling_errors:\n",
    "    # RMSE je druhá odmocnina ze střední hodnoty čtverců chyb\n",
    "    rolling_rmse = sqrt(np.mean(np.array(rolling_errors)**2))\n",
    "    print(\"\\n----------------------------------------------------\")\n",
    "    print(f\"Rolling Origin RMSE (ARIMA{best_order}): {rolling_rmse:.3f}\")\n",
    "    print(f\"Počet úspěšných predikcí: {len(rolling_errors)}\")\n",
    "    print(\"----------------------------------------------------\")\n",
    "else:\n",
    "    print(\"\\nNepodařilo se provést dostatečný počet predikcí pro výpočet RMSE.\")"
   ]
  },
  {
   "cell_type": "markdown",
   "metadata": {},
   "source": [
    "## 4. Predikce"
   ]
  },
  {
   "cell_type": "code",
   "execution_count": null,
   "metadata": {},
   "outputs": [],
   "source": []
  },
  {
   "cell_type": "markdown",
   "metadata": {},
   "source": [
    "## 4. Predikce"
   ]
  },
  {
   "cell_type": "code",
   "execution_count": null,
   "metadata": {},
   "outputs": [],
   "source": []
  }
 ],
 "metadata": {
  "kernelspec": {
   "display_name": "venv (3.12.11)",
   "language": "python",
   "name": "python3"
  },
  "language_info": {
   "codemirror_mode": {
    "name": "ipython",
    "version": 3
   },
   "file_extension": ".py",
   "mimetype": "text/x-python",
   "name": "python",
   "nbconvert_exporter": "python",
   "pygments_lexer": "ipython3",
   "version": "3.12.11"
  }
 },
 "nbformat": 4,
 "nbformat_minor": 4
}
